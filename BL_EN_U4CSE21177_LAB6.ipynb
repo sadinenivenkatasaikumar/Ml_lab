{
  "cells": [
    {
      "cell_type": "markdown",
      "metadata": {
        "id": "view-in-github",
        "colab_type": "text"
      },
      "source": [
        "<a href=\"https://colab.research.google.com/github/sadinenivenkatasaikumar/Ml_lab3/blob/main/BL_EN_U4CSE21177_LAB6.ipynb\" target=\"_parent\"><img src=\"https://colab.research.google.com/assets/colab-badge.svg\" alt=\"Open In Colab\"/></a>"
      ]
    },
    {
      "cell_type": "code",
      "execution_count": null,
      "id": "11812324",
      "metadata": {
        "id": "11812324",
        "outputId": "a1318477-b076-4fcd-c39b-d69860454139",
        "colab": {
          "base_uri": "https://localhost:8080/",
          "height": 472
        }
      },
      "outputs": [
        {
          "output_type": "display_data",
          "data": {
            "text/plain": [
              "<Figure size 640x480 with 1 Axes>"
            ],
            "image/png": "[encoded data removed]"
          },
          "metadata": {}
        }
      ],
      "source": [
        "#A1\n",
        "import pandas as pd\n",
        "import matplotlib.pyplot as plt\n",
        "\n",
        "# Load your dataset, replace 'your_dataset.csv' with the actual file path or URL\n",
        "df = pd.read_excel('/content/DS to B.tech.xlsx')\n",
        "\n",
        "# Replace 'feature1' and 'feature2' with the names of the features you want to extract\n",
        "feature1 = df['Id']\n",
        "feature2 = df['Label']\n",
        "\n",
        "# Create a scatter plot\n",
        "plt.scatter(feature1, feature2)\n",
        "\n",
        "# Add labels and title\n",
        "plt.xlabel(\"Id\")\n",
        "plt.ylabel(\"Label\")\n",
        "plt.title(\"Scatter Plot of Two Features\")\n",
        "\n",
        "# Display the plot\n",
        "plt.show()"
      ]
    },
    {
      "cell_type": "code",
      "execution_count": null,
      "id": "198c901a",
      "metadata": {
        "id": "198c901a",
        "outputId": "c2de6eae-4077-4ad4-f88e-a954baa903e6",
        "colab": {
          "base_uri": "https://localhost:8080/"
        }
      },
      "outputs": [
        {
          "output_type": "stream",
          "name": "stdout",
          "text": [
            "Mean Squared Error: 5.807290848549896\n"
          ]
        }
      ],
      "source": [
        "#A2\n",
        "import pandas as pd\n",
        "from sklearn.linear_model import LinearRegression\n",
        "from sklearn.metrics import mean_squared_error\n",
        "\n",
        "# Load your dataset, replace 'your_data.csv' with the actual file path or URL\n",
        "df = pd.read_excel('/content/DS to B.tech.xlsx')\n",
        "\n",
        "# Replace 'independent_feature' and 'dependent_feature' with the actual column names\n",
        "independent_feature = df['Id'].values.reshape(-1, 1)\n",
        "dependent_feature = df['Label']\n",
        "\n",
        "# Create and fit a linear regression model\n",
        "model = LinearRegression()\n",
        "model.fit(independent_feature, dependent_feature)\n",
        "\n",
        "# Make predictions on the entire dataset\n",
        "y_pred = model.predict(independent_feature)\n",
        "\n",
        "# Calculate the mean squared error\n",
        "mse = mean_squared_error(dependent_feature, y_pred)\n",
        "print(f\"Mean Squared Error: {mse}\")"
      ]
    },
    {
      "cell_type": "code",
      "execution_count": null,
      "id": "66c1ffa1",
      "metadata": {
        "id": "66c1ffa1",
        "outputId": "33c71d70-5412-481a-804f-1d89239eb84e",
        "colab": {
          "base_uri": "https://localhost:8080/"
        }
      },
      "outputs": [
        {
          "output_type": "stream",
          "name": "stdout",
          "text": [
            "Test Set Accuracy: 0.6766666666666666\n"
          ]
        },
        {
          "output_type": "stream",
          "name": "stderr",
          "text": [
            "/usr/local/lib/python3.10/dist-packages/sklearn/linear_model/_logistic.py:458: ConvergenceWarning: lbfgs failed to converge (status=1):\n",
            "STOP: TOTAL NO. of ITERATIONS REACHED LIMIT.\n",
            "\n",
            "Increase the number of iterations (max_iter) or scale the data as shown in:\n",
            "    https://scikit-learn.org/stable/modules/preprocessing.html\n",
            "Please also refer to the documentation for alternative solver options:\n",
            "    https://scikit-learn.org/stable/modules/linear_model.html#logistic-regression\n",
            "  n_iter_i = _check_optimize_result(\n"
          ]
        }
      ],
      "source": [
        "#A4\n",
        "import pandas as pd\n",
        "from sklearn.model_selection import train_test_split\n",
        "from sklearn.feature_extraction.text import CountVectorizer\n",
        "from sklearn.linear_model import LogisticRegression\n",
        "from sklearn.metrics import accuracy_score\n",
        "\n",
        "# Load your training dataset\n",
        "training_df = pd.read_excel('/content/DS to B.tech.xlsx')\n",
        "\n",
        "# Load your testing dataset\n",
        "testing_df = pd.read_excel('/content/DS to B.tech.xlsx')\n",
        "\n",
        "# Preprocess the data: Replace NaN values with an empty string\n",
        "training_df['Lawyers Summary'] = training_df['Lawyers Summary'].fillna('')\n",
        "testing_df['Id'] = testing_df['Id'].fillna('')\n",
        "\n",
        "# Define the feature and target variables for training and testing\n",
        "X_train = training_df['Lawyers Summary']\n",
        "y_train = training_df['Label']\n",
        "X_test = testing_df['Domain']\n",
        "y_test = testing_df['Label']\n",
        "\n",
        "# Create a CountVectorizer to convert text into numerical features\n",
        "vectorizer = CountVectorizer()\n",
        "X_train = vectorizer.fit_transform(X_train)\n",
        "X_test = vectorizer.transform(X_test)\n",
        "\n",
        "# Create a logistic regression model\n",
        "model = LogisticRegression()\n",
        "\n",
        "# Train the model on the training data\n",
        "model.fit(X_train, y_train)\n",
        "\n",
        "# Make predictions on the test data\n",
        "y_pred = model.predict(X_test)\n",
        "\n",
        "# Calculate the accuracy of the model\n",
        "accuracy = accuracy_score(y_test, y_pred)\n",
        "\n",
        "# Print the accuracy\n",
        "print(\"Test Set Accuracy:\", accuracy)"
      ]
    },
    {
      "cell_type": "code",
      "execution_count": null,
      "id": "b30d5bbf",
      "metadata": {
        "id": "b30d5bbf",
        "outputId": "8396e28e-249b-48af-8b4b-8cd7a0a91540",
        "colab": {
          "base_uri": "https://localhost:8080/"
        }
      },
      "outputs": [
        {
          "output_type": "stream",
          "name": "stdout",
          "text": [
            "Decision Tree Regressor:\n",
            "Mean Squared Error: 4.5055555555555555\n",
            "R-squared Score: 0.29413812611514867\n",
            "\n",
            "k-NN Regressor:\n",
            "Mean Squared Error: 3.4908888888888896\n",
            "R-squared Score: 0.45310065712171976\n"
          ]
        }
      ],
      "source": [
        "#A5\n",
        "import pandas as pd\n",
        "from sklearn.model_selection import train_test_split\n",
        "from sklearn.tree import DecisionTreeRegressor\n",
        "from sklearn.neighbors import KNeighborsRegressor\n",
        "from sklearn.metrics import mean_squared_error, r2_score\n",
        "\n",
        "# Load your dataset, replace 'your_dataset.csv' with the actual file path or URL\n",
        "df = pd.read_excel('/content/DS to B.tech.xlsx')\n",
        "\n",
        "# Define the feature and target variables\n",
        "X = df[['Id']]\n",
        "y = df['Label']\n",
        "\n",
        "# Split the dataset into training and test sets\n",
        "X_train, X_test, y_train, y_test = train_test_split(X, y, test_size=0.2, random_state=42)\n",
        "\n",
        "# Create a Decision Tree Regressor\n",
        "decision_tree_regressor = DecisionTreeRegressor(random_state=42)\n",
        "decision_tree_regressor.fit(X_train, y_train)\n",
        "y_pred_decision_tree = decision_tree_regressor.predict(X_test)\n",
        "\n",
        "# Create a k-NN Regressor\n",
        "knn_regressor = KNeighborsRegressor(n_neighbors=5)  # You can adjust the number of neighbors\n",
        "knn_regressor.fit(X_train, y_train)\n",
        "y_pred_knn = knn_regressor.predict(X_test)\n",
        "\n",
        "# Calculate and print the performance metrics for Decision Tree Regressor\n",
        "mse_decision_tree = mean_squared_error(y_test, y_pred_decision_tree)\n",
        "r2_decision_tree = r2_score(y_test, y_pred_decision_tree)\n",
        "\n",
        "print(\"Decision Tree Regressor:\")\n",
        "print(\"Mean Squared Error:\", mse_decision_tree)\n",
        "print(\"R-squared Score:\", r2_decision_tree)\n",
        "\n",
        "# Calculate and print the performance metrics for k-NN Regressor\n",
        "mse_knn = mean_squared_error(y_test, y_pred_knn)\n",
        "r2_knn = r2_score(y_test, y_pred_knn)\n",
        "\n",
        "print(\"\\nk-NN Regressor:\")\n",
        "print(\"Mean Squared Error:\", mse_knn)\n",
        "print(\"R-squared Score:\", r2_knn)"
      ]
    },
    {
      "cell_type": "code",
      "execution_count": null,
      "id": "45d7f193",
      "metadata": {
        "id": "45d7f193"
      },
      "outputs": [],
      "source": []
    }
  ],
  "metadata": {
    "kernelspec": {
      "display_name": "Python 3 (ipykernel)",
      "language": "python",
      "name": "python3"
    },
    "language_info": {
      "codemirror_mode": {
        "name": "ipython",
        "version": 3
      },
      "file_extension": ".py",
      "mimetype": "text/x-python",
      "name": "python",
      "nbconvert_exporter": "python",
      "pygments_lexer": "ipython3",
      "version": "3.11.4"
    },
    "colab": {
      "provenance": [],
      "include_colab_link": true
    }
  },
  "nbformat": 4,
  "nbformat_minor": 5
}